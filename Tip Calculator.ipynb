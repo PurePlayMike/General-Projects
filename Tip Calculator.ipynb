{
 "cells": [
  {
   "cell_type": "code",
   "execution_count": 1,
   "id": "08f38af2",
   "metadata": {},
   "outputs": [
    {
     "name": "stdout",
     "output_type": "stream",
     "text": [
      "Welcome to the tip calculator!\n",
      "How much is the bill? 89.75\n",
      "How many people are splitting the bill? 2\n",
      "What percentage tip would you like to give? 10, 12, 15 or 20? 20\n",
      "Each person should pay: $53.85\n"
     ]
    }
   ],
   "source": [
    "print(\"Welcome to the tip calculator!\")\n",
    "\n",
    "Bill_amount = float(input('How much is the bill? '))\n",
    "Split = int(input('How many people are splitting the bill? '))\n",
    "Tip = int(input('What percentage tip would you like to give? 10, 12, 15 or 20? '))\n",
    "\n",
    "\n",
    "amount_per_person = round((Bill_amount/Split)*((Tip/100)+1),2)\n",
    "amount_per_person = '{:.2f}'.format(amount_per_person) #format to look like a currency number\n",
    "message = f\"Each person should pay: ${amount_per_person}\"\n",
    "print(message)"
   ]
  }
 ],
 "metadata": {
  "kernelspec": {
   "display_name": "Python 3",
   "language": "python",
   "name": "python3"
  },
  "language_info": {
   "codemirror_mode": {
    "name": "ipython",
    "version": 3
   },
   "file_extension": ".py",
   "mimetype": "text/x-python",
   "name": "python",
   "nbconvert_exporter": "python",
   "pygments_lexer": "ipython3",
   "version": "3.8.8"
  }
 },
 "nbformat": 4,
 "nbformat_minor": 5
}
